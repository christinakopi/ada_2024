{
 "cells": [
  {
   "cell_type": "markdown",
   "metadata": {},
   "source": [
    "# Describing Data\n",
    "\n",
    "### What do you find in this notebook?\n",
    "\n",
    "In this exercise, first, you will familiarize yourself with the Python libraries 'statsmodels' and 'SciPy' that let you do statistical analysis: calculate descriptive statistics, sample datapoints, study relationships between variables, and perform hypothesis testing. Then, second, you will work on a set of exercises that will let you practice your skills.\n",
    "\n",
    "Here we show a couple of examples of how to do common analyses, but there are many more useful probability distributions and statistical tests. In the linked documentation, you will find complete information, and a lot more details compared to what is outlined in this notebook:\n",
    "- [statsmodels](https://www.statsmodels.org/stable/examples/index.html), [more complete documentation](https://www.statsmodels.org/stable/stats.html)\n",
    "- [SciPy](https://docs.scipy.org/doc/scipy/reference/stats.html)"
   ]
  },
  {
   "cell_type": "markdown",
   "metadata": {},
   "source": [
    "# Tutorial: How to use the libraries\n",
    "\n",
    "- You will be working with the full US 2015 census dataset (acs2015_county_data.csv, available at https://www.kaggle.com/muonneutrino/us-census-demographic-data#acs2015_county_data.csv). Here we load it. Take some time to familiarize yourself with the contents. One row represents one county."
   ]
  },
  {
   "cell_type": "code",
   "execution_count": 2,
   "metadata": {},
   "outputs": [
    {
     "name": "stdout",
     "output_type": "stream",
     "text": [
      "Collecting statsmodels\n",
      "  Downloading statsmodels-0.14.4-cp311-cp311-win_amd64.whl.metadata (9.5 kB)\n",
      "Requirement already satisfied: numpy<3,>=1.22.3 in c:\\users\\xrist\\anaconda3\\envs\\ada\\lib\\site-packages (from statsmodels) (1.26.4)\n",
      "Requirement already satisfied: scipy!=1.9.2,>=1.8 in c:\\users\\xrist\\anaconda3\\envs\\ada\\lib\\site-packages (from statsmodels) (1.13.1)\n",
      "Requirement already satisfied: pandas!=2.1.0,>=1.4 in c:\\users\\xrist\\anaconda3\\envs\\ada\\lib\\site-packages (from statsmodels) (2.2.2)\n",
      "Collecting patsy>=0.5.6 (from statsmodels)\n",
      "  Downloading patsy-0.5.6-py2.py3-none-any.whl.metadata (3.5 kB)\n",
      "Requirement already satisfied: packaging>=21.3 in c:\\users\\xrist\\anaconda3\\envs\\ada\\lib\\site-packages (from statsmodels) (24.1)\n",
      "Requirement already satisfied: python-dateutil>=2.8.2 in c:\\users\\xrist\\anaconda3\\envs\\ada\\lib\\site-packages (from pandas!=2.1.0,>=1.4->statsmodels) (2.9.0.post0)\n",
      "Requirement already satisfied: pytz>=2020.1 in c:\\users\\xrist\\anaconda3\\envs\\ada\\lib\\site-packages (from pandas!=2.1.0,>=1.4->statsmodels) (2024.1)\n",
      "Requirement already satisfied: tzdata>=2022.7 in c:\\users\\xrist\\anaconda3\\envs\\ada\\lib\\site-packages (from pandas!=2.1.0,>=1.4->statsmodels) (2023.3)\n",
      "Requirement already satisfied: six in c:\\users\\xrist\\anaconda3\\envs\\ada\\lib\\site-packages (from patsy>=0.5.6->statsmodels) (1.16.0)\n",
      "Downloading statsmodels-0.14.4-cp311-cp311-win_amd64.whl (9.9 MB)\n",
      "   ---------------------------------------- 0.0/9.9 MB ? eta -:--:--\n",
      "   ----- ---------------------------------- 1.3/9.9 MB 7.4 MB/s eta 0:00:02\n",
      "   ----------- ---------------------------- 2.9/9.9 MB 8.0 MB/s eta 0:00:01\n",
      "   -------------------- ------------------- 5.0/9.9 MB 8.4 MB/s eta 0:00:01\n",
      "   --------------------------- ------------ 6.8/9.9 MB 8.4 MB/s eta 0:00:01\n",
      "   -------------------------------- ------- 8.1/9.9 MB 8.1 MB/s eta 0:00:01\n",
      "   ---------------------------------------  9.7/9.9 MB 8.2 MB/s eta 0:00:01\n",
      "   ---------------------------------------- 9.9/9.9 MB 7.9 MB/s eta 0:00:00\n",
      "Downloading patsy-0.5.6-py2.py3-none-any.whl (233 kB)\n",
      "Installing collected packages: patsy, statsmodels\n",
      "Successfully installed patsy-0.5.6 statsmodels-0.14.4\n"
     ]
    }
   ],
   "source": [
    "!pip install statsmodels"
   ]
  },
  {
   "cell_type": "code",
   "execution_count": 3,
   "metadata": {
    "tags": []
   },
   "outputs": [],
   "source": [
    "import pandas as pd\n",
    "import pandas as pd\n",
    "import numpy as np\n",
    "import matplotlib.pyplot as plt\n",
    "%matplotlib inline\n",
    "import seaborn as sns\n",
    "import math\n",
    "\n",
    "#load the statistical libraries\n",
    "from statsmodels.stats import diagnostic\n",
    "from scipy import stats"
   ]
  },
  {
   "cell_type": "code",
   "execution_count": 4,
   "metadata": {
    "tags": []
   },
   "outputs": [],
   "source": [
    "data_folder = './data/'\n",
    "df = pd.read_csv(data_folder + 'acs2015_county_data.csv')"
   ]
  },
  {
   "cell_type": "code",
   "execution_count": 5,
   "metadata": {},
   "outputs": [
    {
     "data": {
      "text/plain": [
       "Index(['CensusId', 'State', 'County', 'TotalPop', 'Men', 'Women', 'Hispanic',\n",
       "       'White', 'Black', 'Native', 'Asian', 'Pacific', 'Citizen', 'Income',\n",
       "       'IncomeErr', 'IncomePerCap', 'IncomePerCapErr', 'Poverty',\n",
       "       'ChildPoverty', 'Professional', 'Service', 'Office', 'Construction',\n",
       "       'Production', 'Drive', 'Carpool', 'Transit', 'Walk', 'OtherTransp',\n",
       "       'WorkAtHome', 'MeanCommute', 'Employed', 'PrivateWork', 'PublicWork',\n",
       "       'SelfEmployed', 'FamilyWork', 'Unemployment'],\n",
       "      dtype='object')"
      ]
     },
     "execution_count": 5,
     "metadata": {},
     "output_type": "execute_result"
    }
   ],
   "source": [
    "df.columns"
   ]
  },
  {
   "cell_type": "code",
   "execution_count": 6,
   "metadata": {},
   "outputs": [
    {
     "data": {
      "text/html": [
       "<div>\n",
       "<style scoped>\n",
       "    .dataframe tbody tr th:only-of-type {\n",
       "        vertical-align: middle;\n",
       "    }\n",
       "\n",
       "    .dataframe tbody tr th {\n",
       "        vertical-align: top;\n",
       "    }\n",
       "\n",
       "    .dataframe thead th {\n",
       "        text-align: right;\n",
       "    }\n",
       "</style>\n",
       "<table border=\"1\" class=\"dataframe\">\n",
       "  <thead>\n",
       "    <tr style=\"text-align: right;\">\n",
       "      <th></th>\n",
       "      <th>CensusId</th>\n",
       "      <th>State</th>\n",
       "      <th>County</th>\n",
       "      <th>TotalPop</th>\n",
       "      <th>Men</th>\n",
       "      <th>Women</th>\n",
       "      <th>Hispanic</th>\n",
       "      <th>White</th>\n",
       "      <th>Black</th>\n",
       "      <th>Native</th>\n",
       "      <th>...</th>\n",
       "      <th>Walk</th>\n",
       "      <th>OtherTransp</th>\n",
       "      <th>WorkAtHome</th>\n",
       "      <th>MeanCommute</th>\n",
       "      <th>Employed</th>\n",
       "      <th>PrivateWork</th>\n",
       "      <th>PublicWork</th>\n",
       "      <th>SelfEmployed</th>\n",
       "      <th>FamilyWork</th>\n",
       "      <th>Unemployment</th>\n",
       "    </tr>\n",
       "  </thead>\n",
       "  <tbody>\n",
       "    <tr>\n",
       "      <th>2962</th>\n",
       "      <td>53019</td>\n",
       "      <td>Washington</td>\n",
       "      <td>Ferry</td>\n",
       "      <td>7652</td>\n",
       "      <td>3987</td>\n",
       "      <td>3665</td>\n",
       "      <td>4.0</td>\n",
       "      <td>74.1</td>\n",
       "      <td>0.3</td>\n",
       "      <td>15.2</td>\n",
       "      <td>...</td>\n",
       "      <td>11.7</td>\n",
       "      <td>1.5</td>\n",
       "      <td>6.2</td>\n",
       "      <td>21.1</td>\n",
       "      <td>2452</td>\n",
       "      <td>52.4</td>\n",
       "      <td>40.6</td>\n",
       "      <td>6.4</td>\n",
       "      <td>0.5</td>\n",
       "      <td>12.2</td>\n",
       "    </tr>\n",
       "    <tr>\n",
       "      <th>371</th>\n",
       "      <td>12103</td>\n",
       "      <td>Florida</td>\n",
       "      <td>Pinellas</td>\n",
       "      <td>931477</td>\n",
       "      <td>446740</td>\n",
       "      <td>484737</td>\n",
       "      <td>8.7</td>\n",
       "      <td>75.5</td>\n",
       "      <td>10.1</td>\n",
       "      <td>0.3</td>\n",
       "      <td>...</td>\n",
       "      <td>1.6</td>\n",
       "      <td>2.7</td>\n",
       "      <td>5.5</td>\n",
       "      <td>23.9</td>\n",
       "      <td>423351</td>\n",
       "      <td>83.7</td>\n",
       "      <td>10.9</td>\n",
       "      <td>5.2</td>\n",
       "      <td>0.2</td>\n",
       "      <td>8.4</td>\n",
       "    </tr>\n",
       "    <tr>\n",
       "      <th>1976</th>\n",
       "      <td>37173</td>\n",
       "      <td>North Carolina</td>\n",
       "      <td>Swain</td>\n",
       "      <td>14163</td>\n",
       "      <td>6808</td>\n",
       "      <td>7355</td>\n",
       "      <td>2.4</td>\n",
       "      <td>64.0</td>\n",
       "      <td>1.5</td>\n",
       "      <td>26.1</td>\n",
       "      <td>...</td>\n",
       "      <td>1.4</td>\n",
       "      <td>0.9</td>\n",
       "      <td>1.6</td>\n",
       "      <td>19.6</td>\n",
       "      <td>5543</td>\n",
       "      <td>68.8</td>\n",
       "      <td>24.0</td>\n",
       "      <td>7.1</td>\n",
       "      <td>0.0</td>\n",
       "      <td>7.7</td>\n",
       "    </tr>\n",
       "    <tr>\n",
       "      <th>1028</th>\n",
       "      <td>21071</td>\n",
       "      <td>Kentucky</td>\n",
       "      <td>Floyd</td>\n",
       "      <td>38649</td>\n",
       "      <td>19048</td>\n",
       "      <td>19601</td>\n",
       "      <td>0.7</td>\n",
       "      <td>97.4</td>\n",
       "      <td>0.8</td>\n",
       "      <td>0.1</td>\n",
       "      <td>...</td>\n",
       "      <td>1.6</td>\n",
       "      <td>0.5</td>\n",
       "      <td>1.7</td>\n",
       "      <td>24.6</td>\n",
       "      <td>11922</td>\n",
       "      <td>71.2</td>\n",
       "      <td>22.3</td>\n",
       "      <td>6.4</td>\n",
       "      <td>0.0</td>\n",
       "      <td>9.7</td>\n",
       "    </tr>\n",
       "    <tr>\n",
       "      <th>331</th>\n",
       "      <td>12023</td>\n",
       "      <td>Florida</td>\n",
       "      <td>Columbia</td>\n",
       "      <td>67806</td>\n",
       "      <td>35080</td>\n",
       "      <td>32726</td>\n",
       "      <td>5.4</td>\n",
       "      <td>73.4</td>\n",
       "      <td>17.7</td>\n",
       "      <td>0.3</td>\n",
       "      <td>...</td>\n",
       "      <td>0.9</td>\n",
       "      <td>1.6</td>\n",
       "      <td>3.1</td>\n",
       "      <td>24.2</td>\n",
       "      <td>25226</td>\n",
       "      <td>71.5</td>\n",
       "      <td>24.0</td>\n",
       "      <td>4.4</td>\n",
       "      <td>0.1</td>\n",
       "      <td>14.8</td>\n",
       "    </tr>\n",
       "    <tr>\n",
       "      <th>182</th>\n",
       "      <td>5143</td>\n",
       "      <td>Arkansas</td>\n",
       "      <td>Washington</td>\n",
       "      <td>216432</td>\n",
       "      <td>108144</td>\n",
       "      <td>108288</td>\n",
       "      <td>16.0</td>\n",
       "      <td>72.5</td>\n",
       "      <td>3.2</td>\n",
       "      <td>0.9</td>\n",
       "      <td>...</td>\n",
       "      <td>2.5</td>\n",
       "      <td>1.3</td>\n",
       "      <td>4.6</td>\n",
       "      <td>21.3</td>\n",
       "      <td>102944</td>\n",
       "      <td>78.7</td>\n",
       "      <td>14.7</td>\n",
       "      <td>6.3</td>\n",
       "      <td>0.3</td>\n",
       "      <td>6.2</td>\n",
       "    </tr>\n",
       "    <tr>\n",
       "      <th>1554</th>\n",
       "      <td>29143</td>\n",
       "      <td>Missouri</td>\n",
       "      <td>New Madrid</td>\n",
       "      <td>18411</td>\n",
       "      <td>8828</td>\n",
       "      <td>9583</td>\n",
       "      <td>1.6</td>\n",
       "      <td>80.5</td>\n",
       "      <td>16.1</td>\n",
       "      <td>0.1</td>\n",
       "      <td>...</td>\n",
       "      <td>2.6</td>\n",
       "      <td>0.5</td>\n",
       "      <td>2.7</td>\n",
       "      <td>16.7</td>\n",
       "      <td>7298</td>\n",
       "      <td>79.3</td>\n",
       "      <td>14.2</td>\n",
       "      <td>6.5</td>\n",
       "      <td>0.0</td>\n",
       "      <td>8.8</td>\n",
       "    </tr>\n",
       "    <tr>\n",
       "      <th>447</th>\n",
       "      <td>13123</td>\n",
       "      <td>Georgia</td>\n",
       "      <td>Gilmer</td>\n",
       "      <td>28673</td>\n",
       "      <td>14560</td>\n",
       "      <td>14113</td>\n",
       "      <td>10.7</td>\n",
       "      <td>86.3</td>\n",
       "      <td>0.7</td>\n",
       "      <td>0.2</td>\n",
       "      <td>...</td>\n",
       "      <td>0.6</td>\n",
       "      <td>2.0</td>\n",
       "      <td>4.4</td>\n",
       "      <td>28.0</td>\n",
       "      <td>10938</td>\n",
       "      <td>78.6</td>\n",
       "      <td>9.5</td>\n",
       "      <td>11.5</td>\n",
       "      <td>0.5</td>\n",
       "      <td>10.0</td>\n",
       "    </tr>\n",
       "    <tr>\n",
       "      <th>47</th>\n",
       "      <td>1095</td>\n",
       "      <td>Alabama</td>\n",
       "      <td>Marshall</td>\n",
       "      <td>94318</td>\n",
       "      <td>46409</td>\n",
       "      <td>47909</td>\n",
       "      <td>12.7</td>\n",
       "      <td>82.7</td>\n",
       "      <td>1.9</td>\n",
       "      <td>0.4</td>\n",
       "      <td>...</td>\n",
       "      <td>1.0</td>\n",
       "      <td>0.8</td>\n",
       "      <td>3.1</td>\n",
       "      <td>23.6</td>\n",
       "      <td>38140</td>\n",
       "      <td>78.0</td>\n",
       "      <td>14.8</td>\n",
       "      <td>7.1</td>\n",
       "      <td>0.1</td>\n",
       "      <td>8.4</td>\n",
       "    </tr>\n",
       "    <tr>\n",
       "      <th>1790</th>\n",
       "      <td>34033</td>\n",
       "      <td>New Jersey</td>\n",
       "      <td>Salem</td>\n",
       "      <td>65120</td>\n",
       "      <td>31653</td>\n",
       "      <td>33467</td>\n",
       "      <td>7.7</td>\n",
       "      <td>75.7</td>\n",
       "      <td>13.8</td>\n",
       "      <td>0.1</td>\n",
       "      <td>...</td>\n",
       "      <td>1.8</td>\n",
       "      <td>1.4</td>\n",
       "      <td>2.7</td>\n",
       "      <td>25.1</td>\n",
       "      <td>29226</td>\n",
       "      <td>79.7</td>\n",
       "      <td>15.6</td>\n",
       "      <td>4.6</td>\n",
       "      <td>0.1</td>\n",
       "      <td>10.6</td>\n",
       "    </tr>\n",
       "  </tbody>\n",
       "</table>\n",
       "<p>10 rows × 37 columns</p>\n",
       "</div>"
      ],
      "text/plain": [
       "      CensusId           State      County  TotalPop     Men   Women  \\\n",
       "2962     53019      Washington       Ferry      7652    3987    3665   \n",
       "371      12103         Florida    Pinellas    931477  446740  484737   \n",
       "1976     37173  North Carolina       Swain     14163    6808    7355   \n",
       "1028     21071        Kentucky       Floyd     38649   19048   19601   \n",
       "331      12023         Florida    Columbia     67806   35080   32726   \n",
       "182       5143        Arkansas  Washington    216432  108144  108288   \n",
       "1554     29143        Missouri  New Madrid     18411    8828    9583   \n",
       "447      13123         Georgia      Gilmer     28673   14560   14113   \n",
       "47        1095         Alabama    Marshall     94318   46409   47909   \n",
       "1790     34033      New Jersey       Salem     65120   31653   33467   \n",
       "\n",
       "      Hispanic  White  Black  Native  ...  Walk  OtherTransp  WorkAtHome  \\\n",
       "2962       4.0   74.1    0.3    15.2  ...  11.7          1.5         6.2   \n",
       "371        8.7   75.5   10.1     0.3  ...   1.6          2.7         5.5   \n",
       "1976       2.4   64.0    1.5    26.1  ...   1.4          0.9         1.6   \n",
       "1028       0.7   97.4    0.8     0.1  ...   1.6          0.5         1.7   \n",
       "331        5.4   73.4   17.7     0.3  ...   0.9          1.6         3.1   \n",
       "182       16.0   72.5    3.2     0.9  ...   2.5          1.3         4.6   \n",
       "1554       1.6   80.5   16.1     0.1  ...   2.6          0.5         2.7   \n",
       "447       10.7   86.3    0.7     0.2  ...   0.6          2.0         4.4   \n",
       "47        12.7   82.7    1.9     0.4  ...   1.0          0.8         3.1   \n",
       "1790       7.7   75.7   13.8     0.1  ...   1.8          1.4         2.7   \n",
       "\n",
       "      MeanCommute  Employed  PrivateWork  PublicWork  SelfEmployed  \\\n",
       "2962         21.1      2452         52.4        40.6           6.4   \n",
       "371          23.9    423351         83.7        10.9           5.2   \n",
       "1976         19.6      5543         68.8        24.0           7.1   \n",
       "1028         24.6     11922         71.2        22.3           6.4   \n",
       "331          24.2     25226         71.5        24.0           4.4   \n",
       "182          21.3    102944         78.7        14.7           6.3   \n",
       "1554         16.7      7298         79.3        14.2           6.5   \n",
       "447          28.0     10938         78.6         9.5          11.5   \n",
       "47           23.6     38140         78.0        14.8           7.1   \n",
       "1790         25.1     29226         79.7        15.6           4.6   \n",
       "\n",
       "      FamilyWork  Unemployment  \n",
       "2962         0.5          12.2  \n",
       "371          0.2           8.4  \n",
       "1976         0.0           7.7  \n",
       "1028         0.0           9.7  \n",
       "331          0.1          14.8  \n",
       "182          0.3           6.2  \n",
       "1554         0.0           8.8  \n",
       "447          0.5          10.0  \n",
       "47           0.1           8.4  \n",
       "1790         0.1          10.6  \n",
       "\n",
       "[10 rows x 37 columns]"
      ]
     },
     "execution_count": 6,
     "metadata": {},
     "output_type": "execute_result"
    }
   ],
   "source": [
    "df.sample(10)"
   ]
  },
  {
   "cell_type": "markdown",
   "metadata": {},
   "source": [
    "- We will focus first on income per capita across counties."
   ]
  },
  {
   "cell_type": "code",
   "execution_count": 8,
   "metadata": {},
   "outputs": [
    {
     "data": {
      "image/png": "[encoded data removed]",
      "text/plain": [
       "<Figure size 640x480 with 1 Axes>"
      ]
     },
     "metadata": {},
     "output_type": "display_data"
    }
   ],
   "source": [
    "df['IncomePerCap'].hist(bins = 50)\n",
    "plt.show()"
   ]
  },
  {
   "cell_type": "markdown",
   "metadata": {},
   "source": [
    "### 1. Calculating descriptive statisctics\n",
    "\n",
    "- Let's calculate basic descriptive statistics of the income per capita."
   ]
  },
  {
   "cell_type": "code",
   "execution_count": 9,
   "metadata": {},
   "outputs": [
    {
     "data": {
      "text/plain": [
       "count     3220.000000\n",
       "mean     23981.771739\n",
       "std       6204.339960\n",
       "min       5878.000000\n",
       "25%      20238.500000\n",
       "50%      23460.000000\n",
       "75%      27053.250000\n",
       "max      65600.000000\n",
       "Name: IncomePerCap, dtype: float64"
      ]
     },
     "execution_count": 9,
     "metadata": {},
     "output_type": "execute_result"
    }
   ],
   "source": [
    "df['IncomePerCap'].describe()"
   ]
  },
  {
   "cell_type": "markdown",
   "metadata": {},
   "source": [
    "- What distribution does the data come from? Here is how we can test the goodness of the fit."
   ]
  },
  {
   "cell_type": "code",
   "execution_count": 11,
   "metadata": {},
   "outputs": [
    {
     "data": {
      "text/plain": [
       "(0.0637621121184162, 0.0009999999999998899)"
      ]
     },
     "execution_count": 11,
     "metadata": {},
     "output_type": "execute_result"
    }
   ],
   "source": [
    "# does the data come from a normal distrbution?\n",
    "diagnostic.kstest_normal(df['IncomePerCap'].values, dist = 'norm')"
   ]
  },
  {
   "cell_type": "markdown",
   "metadata": {},
   "source": [
    "- p_value < 0.05 -> we can reject the null hypothesis that the data comes from a normal distribution!"
   ]
  },
  {
   "cell_type": "code",
   "execution_count": 12,
   "metadata": {},
   "outputs": [
    {
     "data": {
      "text/plain": [
       "(0.433243770582646, 0.0009999999999998899)"
      ]
     },
     "execution_count": 12,
     "metadata": {},
     "output_type": "execute_result"
    }
   ],
   "source": [
    "#how about exponential?\n",
    "diagnostic.kstest_normal(df['IncomePerCap'].values, dist = 'exp')"
   ]
  },
  {
   "cell_type": "markdown",
   "metadata": {},
   "source": [
    "- p < 0.05 -> not exponential either!"
   ]
  },
  {
   "cell_type": "markdown",
   "metadata": {},
   "source": [
    "### 2. How to sample the data"
   ]
  },
  {
   "cell_type": "markdown",
   "metadata": {},
   "source": [
    "- Often we need to find random samples from the dataset. We can do so conveniently with pandas wrappers."
   ]
  },
  {
   "cell_type": "code",
   "execution_count": 13,
   "metadata": {},
   "outputs": [],
   "source": [
    "#make 10 samples with replacement\n",
    "sample1_counties = df.sample(n = 10, replace = True)\n",
    "\n",
    "#make 10 samples without replacement\n",
    "sample1_counties = df.sample(n = 10, replace = False)\n",
    "\n",
    "#sometimes we want to sample in an ublanaced way, so that we upsample datapoints of certain characteristic,\n",
    "#and downsample the others. this can be acieved with weights parameter\n",
    "#here we sample by upsampling counties with large population\n",
    "sample2_counties = df.sample(n = 10, replace = False, weights = df['TotalPop'])"
   ]
  },
  {
   "cell_type": "code",
   "execution_count": 14,
   "metadata": {},
   "outputs": [
    {
     "name": "stdout",
     "output_type": "stream",
     "text": [
      "64010.4\n",
      "775422.8\n"
     ]
    }
   ],
   "source": [
    "#on avergage, the samples in the sample produce with reveighting now have higher population, as we wanted!\n",
    "print(sample1_counties['TotalPop'].mean())\n",
    "print(sample2_counties['TotalPop'].mean())"
   ]
  },
  {
   "cell_type": "markdown",
   "metadata": {},
   "source": [
    "### 3. Examining relationship between two variables"
   ]
  },
  {
   "cell_type": "markdown",
   "metadata": {},
   "source": [
    "- Is income per capita of a county correlated with the unemployment?"
   ]
  },
  {
   "cell_type": "code",
   "execution_count": 15,
   "metadata": {},
   "outputs": [
    {
     "data": {
      "text/plain": [
       "PearsonRResult(statistic=0.2646136320394489, pvalue=9.942215354239015e-53)"
      ]
     },
     "execution_count": 15,
     "metadata": {},
     "output_type": "execute_result"
    }
   ],
   "source": [
    "stats.pearsonr(df['IncomePerCap'],df['Employed'])"
   ]
  },
  {
   "cell_type": "markdown",
   "metadata": {},
   "source": [
    "- There is a small (0.26), but significant (p < 0.05) positive correlation."
   ]
  },
  {
   "cell_type": "code",
   "execution_count": 16,
   "metadata": {},
   "outputs": [
    {
     "data": {
      "text/plain": [
       "SignificanceResult(statistic=0.30770631560595474, pvalue=1.415296431173735e-71)"
      ]
     },
     "execution_count": 16,
     "metadata": {},
     "output_type": "execute_result"
    }
   ],
   "source": [
    "stats.spearmanr(df['IncomePerCap'],df['Employed'])"
   ]
  },
  {
   "cell_type": "markdown",
   "metadata": {},
   "source": [
    "- Spearman rank coorrelation is also significant."
   ]
  },
  {
   "cell_type": "markdown",
   "metadata": {},
   "source": [
    "### 4. Hypothesis testing"
   ]
  },
  {
   "cell_type": "markdown",
   "metadata": {},
   "source": [
    "- Is income per capita higher in New York counties compared to California counties?"
   ]
  },
  {
   "cell_type": "code",
   "execution_count": 17,
   "metadata": {},
   "outputs": [
    {
     "data": {
      "text/plain": [
       "28189.75806451613"
      ]
     },
     "execution_count": 17,
     "metadata": {},
     "output_type": "execute_result"
    }
   ],
   "source": [
    "df.loc[df['State'] == 'New York']['IncomePerCap'].mean()"
   ]
  },
  {
   "cell_type": "code",
   "execution_count": 18,
   "metadata": {},
   "outputs": [
    {
     "data": {
      "text/plain": [
       "27902.603448275862"
      ]
     },
     "execution_count": 18,
     "metadata": {},
     "output_type": "execute_result"
    }
   ],
   "source": [
    "df.loc[df['State'] == 'California']['IncomePerCap'].mean()"
   ]
  },
  {
   "cell_type": "markdown",
   "metadata": {},
   "source": [
    "- We see that there is a ~300$ gap. Quite a lot!\n",
    "- But is it significantly higher? Let's use a t-test. This is a two-sided test for the null hypothesis that the two independent samples have identical average (expected) values. "
   ]
  },
  {
   "cell_type": "code",
   "execution_count": 19,
   "metadata": {},
   "outputs": [
    {
     "data": {
      "text/plain": [
       "TtestResult(statistic=0.19788117232375713, pvalue=0.8434785239169611, df=118.0)"
      ]
     },
     "execution_count": 19,
     "metadata": {},
     "output_type": "execute_result"
    }
   ],
   "source": [
    "stats.ttest_ind(df.loc[df['State'] == 'New York']['IncomePerCap'], df.loc[df['State'] == 'California']['IncomePerCap'])"
   ]
  },
  {
   "cell_type": "markdown",
   "metadata": {},
   "source": [
    "- p is not smaller than 0.05 -> we cannot reject the null hypothesis that the income is the same -> there is no significant difference"
   ]
  },
  {
   "cell_type": "markdown",
   "metadata": {},
   "source": [
    "### 5. How to measure uncertainty\n",
    "- Now we see the importance of mesuring uncertainty and indicating it on data visualizations.\n",
    "- Visual inspection of 95% confidence intervals lets us see that the difference is not significant (the errorbars are overlapping)."
   ]
  },
  {
   "cell_type": "code",
   "execution_count": 21,
   "metadata": {},
   "outputs": [
    {
     "data": {
      "image/png": "[encoded data removed]",
      "text/plain": [
       "<Figure size 640x480 with 1 Axes>"
      ]
     },
     "metadata": {},
     "output_type": "display_data"
    }
   ],
   "source": [
    "ax = sns.barplot(x=\"State\", y=\"IncomePerCap\", data=df.loc[df['State'].isin(['New York','California'])])\n",
    "plt.ylim([25000,32000])\n",
    "plt.show()"
   ]
  },
  {
   "cell_type": "markdown",
   "metadata": {},
   "source": [
    "# Exercise 1: Boosting the economy by incentivizing self-employment\n",
    "\n",
    "Assume the biggest priority of the local government in 2018 is to increase per-capita income. To do so, the officials plan to adopt a strategy for incentivizing self-employment through a series of campaigns, educational programs, and dedicated funds.\n",
    "\n",
    "Since it is unethical and impossible in this setting to run a controlled experiment involving citizens (e.g., fire employees and force them to self-employ), the officials have asked you, the data scientist, to establish the effect of self-employment on the economy, relying on observational data.\n",
    "\n",
    "**A)** Using suitable methods, determine and quantify the dependency between the percentage of self-employed citizens and per capita income across all 3,212 US counties. Do citizens in counties that have a higher percentage of self-employed people earn more per capita?"
   ]
  },
  {
   "cell_type": "code",
   "execution_count": 23,
   "metadata": {},
   "outputs": [
    {
     "data": {
      "text/plain": [
       "PearsonRResult(statistic=0.08727386609551786, pvalue=7.052861196524553e-07)"
      ]
     },
     "execution_count": 23,
     "metadata": {},
     "output_type": "execute_result"
    }
   ],
   "source": [
    "stats.pearsonr(df['IncomePerCap'],df['SelfEmployed'])"
   ]
  },
  {
   "cell_type": "markdown",
   "metadata": {},
   "source": [
    "The p-value is smaller than  0.05 so we reject the null hypothesis which is the following:\n",
    "\n",
    "Null Hypothesis (H₀): There is no linear relationship between the two variables.\n",
    "\n",
    "If the null hypothesis is not rejected, it suggests that there is no evidence of a linear relationship between the variables.\n",
    "If the null hypothesis is rejected, it suggests that there is a statistically significant linear relationship between the two variables (either positive or negative)."
   ]
  },
  {
   "cell_type": "markdown",
   "metadata": {},
   "source": [
    "The correlation of the data, even though we are certain that it exists, it is weak. This is observed because of the slope of the correlation line (0.08727...). \n",
    "\n",
    "This means that even though citizens in counties that have a higher percentage of self-employed people earn more per capita, the do not increase with the same pace."
   ]
  },
  {
   "cell_type": "code",
   "execution_count": 24,
   "metadata": {},
   "outputs": [
    {
     "data": {
      "text/plain": [
       "SignificanceResult(statistic=0.056413673053189874, pvalue=0.0013623847564714516)"
      ]
     },
     "execution_count": 24,
     "metadata": {},
     "output_type": "execute_result"
    }
   ],
   "source": [
    "stats.spearmanr(df['IncomePerCap'],df['SelfEmployed'])"
   ]
  },
  {
   "cell_type": "markdown",
   "metadata": {},
   "source": [
    "The p-value is smaller than  0.05 so we reject the null hypothesis which is the following:\n",
    "\n",
    "Null Hypothesis (H₀): There is no monotonic relationship between the two variables.\n",
    "\n",
    "If the null hypothesis is not rejected, it suggests that there is no evidence of a monotonic relationship between the variables (increasing or decreasing).\n",
    "If the null hypothesis is rejected, it suggests that there is a statistically significant monotonic relationship between the two variables (either positive or negative)."
   ]
  },
  {
   "cell_type": "markdown",
   "metadata": {},
   "source": [
    "**B)** The pilot program will involve all counties within a limited set of three US states. Set A includes Wisconsin, Tennessee, and  Minnesota. Quantify the dependency of per-capita income on self-employment rates across all the counties in set A."
   ]
  },
  {
   "cell_type": "code",
   "execution_count": 28,
   "metadata": {},
   "outputs": [
    {
     "data": {
      "text/plain": [
       "PearsonRResult(statistic=-0.20229350736521498, pvalue=0.0011881639322138644)"
      ]
     },
     "execution_count": 28,
     "metadata": {},
     "output_type": "execute_result"
    }
   ],
   "source": [
    "setA = df.loc[df['State'].isin(['Wisconsin','Tennessee', 'Minnesota'])]\n",
    "\n",
    "stats.pearsonr(setA['IncomePerCap'],setA['SelfEmployed'])"
   ]
  },
  {
   "cell_type": "code",
   "execution_count": 29,
   "metadata": {},
   "outputs": [
    {
     "data": {
      "text/plain": [
       "SignificanceResult(statistic=-0.23669790001033852, pvalue=0.00014010090313655094)"
      ]
     },
     "execution_count": 29,
     "metadata": {},
     "output_type": "execute_result"
    }
   ],
   "source": [
    "stats.spearmanr(setA['IncomePerCap'],setA['SelfEmployed'])"
   ]
  },
  {
   "cell_type": "markdown",
   "metadata": {},
   "source": [
    "In this case we notice that we reject once again the null hypothesis as the pvalue is smaller than 0.05.\n",
    "\n",
    "However, in this case we observe that the data is correlated in a different way. As one quantity increases, the other one decreases (negative slope, equal to -0.202...)"
   ]
  },
  {
   "cell_type": "markdown",
   "metadata": {},
   "source": [
    "**C)** In which state within set A is the observed effect of self-employment on per-capita income the strongest?"
   ]
  },
  {
   "cell_type": "code",
   "execution_count": 31,
   "metadata": {},
   "outputs": [
    {
     "name": "stdout",
     "output_type": "stream",
     "text": [
      "Pearson stats for each State (Pearson, Spearman):\n",
      "\n",
      "Wisconsin: (PearsonRResult(statistic=-0.32905300016378525, pvalue=0.004768134887745218), SignificanceResult(statistic=-0.4635129104404941, pvalue=4.124859155565996e-05))\n",
      "Tennessee: (PearsonRResult(statistic=-0.23836048684913147, pvalue=0.020011631955528107), SignificanceResult(statistic=-0.316991392780988, pvalue=0.0017487582457931406))\n",
      "Minnesota: (PearsonRResult(statistic=-0.2538551921654062, pvalue=0.01766519930091188), SignificanceResult(statistic=-0.21107460598245847, pvalue=0.04970805582462062))\n"
     ]
    }
   ],
   "source": [
    "wisconsin = df.loc[df['State']=='Wisconsin']\n",
    "tennessee = df.loc[df['State']=='Tennessee']\n",
    "minnesota = df.loc[df['State']=='Minnesota']\n",
    "\n",
    "wisc_pear = stats.pearsonr(wisconsin['IncomePerCap'],wisconsin['SelfEmployed'])\n",
    "wisc_spear = stats.spearmanr(wisconsin['IncomePerCap'],wisconsin['SelfEmployed'])\n",
    "\n",
    "ten_pear = stats.pearsonr(tennessee['IncomePerCap'],tennessee['SelfEmployed'])\n",
    "ten_spear = stats.spearmanr(tennessee['IncomePerCap'],tennessee['SelfEmployed'])\n",
    "\n",
    "minnes_pear = stats.pearsonr(minnesota['IncomePerCap'],minnesota['SelfEmployed'])\n",
    "minnes_spear = stats.spearmanr(minnesota['IncomePerCap'],minnesota['SelfEmployed'])\n",
    "\n",
    "print(f\"Pearson stats for each State (Pearson, Spearman):\\n\")\n",
    "print(f\"Wisconsin: {wisc_pear, wisc_spear}\")\n",
    "print(f\"Tennessee: {ten_pear, ten_spear}\")\n",
    "print(f\"Minnesota: {minnes_pear, minnes_spear}\")"
   ]
  },
  {
   "cell_type": "markdown",
   "metadata": {},
   "source": [
    "The state, in which the observed effect is the strongest is Wisconsin as the 1st parameter is bigger compared to the 2 other states. This mean that there is a stronger correlation, so an increase of one quality leads to a higher decrease of the other one in Wisconsin."
   ]
  },
  {
   "cell_type": "markdown",
   "metadata": {},
   "source": [
    "**D)** Set B includes New Jersey, Kansas, and Rhode Island. Repeat the analysis from steps B and C above, but now for set B. In which of the two sets A and B (if any) would you recommend incentivizing self-employment? Explain your reasoning. Hint: It is useful to add a notion of confidence to your results and explore the data visually."
   ]
  },
  {
   "cell_type": "code",
   "execution_count": 34,
   "metadata": {},
   "outputs": [
    {
     "data": {
      "text/plain": [
       "PearsonRResult(statistic=-0.2322214134608569, pvalue=0.0076074930428573165)"
      ]
     },
     "execution_count": 34,
     "metadata": {},
     "output_type": "execute_result"
    }
   ],
   "source": [
    "setB = df.loc[df['State'].isin(['New Jersey', \"Kansas\", \"Rhode Island\"])]\n",
    "\n",
    "stats.pearsonr(setB['IncomePerCap'],setB['SelfEmployed'])"
   ]
  },
  {
   "cell_type": "code",
   "execution_count": 35,
   "metadata": {},
   "outputs": [
    {
     "data": {
      "text/plain": [
       "SignificanceResult(statistic=-0.16010624610827853, pvalue=0.06773890774775308)"
      ]
     },
     "execution_count": 35,
     "metadata": {},
     "output_type": "execute_result"
    }
   ],
   "source": [
    "stats.spearmanr(setB['IncomePerCap'],setB['SelfEmployed'])"
   ]
  },
  {
   "cell_type": "code",
   "execution_count": 38,
   "metadata": {},
   "outputs": [
    {
     "name": "stdout",
     "output_type": "stream",
     "text": [
      "Pearson stats for each State (Pearson, Spearman):\n",
      "\n",
      "New Jersey: (PearsonRResult(statistic=0.48044784713362815, pvalue=0.027488944757806215), SignificanceResult(statistic=0.4040346017736601, pvalue=0.06929493068926951))\n",
      "Kansas: (PearsonRResult(statistic=0.2581029971443692, pvalue=0.007853351846832411), SignificanceResult(statistic=0.28392575483491556, pvalue=0.0033332825399419903))\n",
      "Rhode Island: (PearsonRResult(statistic=0.9021788382149805, pvalue=0.036183102015759167), SignificanceResult(statistic=0.9999999999999999, pvalue=1.4042654220543672e-24))\n"
     ]
    }
   ],
   "source": [
    "newjersey = df.loc[df['State']=='New Jersey']\n",
    "kansas = df.loc[df['State']=='Kansas']\n",
    "rhode = df.loc[df['State']=='Rhode Island']\n",
    "\n",
    "newj_pear = stats.pearsonr(newjersey['IncomePerCap'],newjersey['SelfEmployed'])\n",
    "newj_spear = stats.spearmanr(newjersey['IncomePerCap'],newjersey['SelfEmployed'])\n",
    "\n",
    "kans_pear = stats.pearsonr(kansas['IncomePerCap'],kansas['SelfEmployed'])\n",
    "kans_spear = stats.spearmanr(kansas['IncomePerCap'],kansas['SelfEmployed'])\n",
    "\n",
    "rhode_pear = stats.pearsonr(rhode['IncomePerCap'],rhode['SelfEmployed'])\n",
    "rhode_spear = stats.spearmanr(rhode['IncomePerCap'],rhode['SelfEmployed'])\n",
    "\n",
    "print(f\"Pearson stats for each State (Pearson, Spearman):\\n\")\n",
    "print(f\"New Jersey: {newj_pear, newj_spear}\")\n",
    "print(f\"Kansas: {kans_pear, kans_spear}\")\n",
    "print(f\"Rhode Island: {rhode_pear, rhode_spear}\")"
   ]
  },
  {
   "cell_type": "markdown",
   "metadata": {},
   "source": [
    "I would motivate self employment in New Jersey, Kansas and Rhode Island as we observe a positive and in the case od Rhode Island a very high correlation between the income and the self employment."
   ]
  },
  {
   "cell_type": "markdown",
   "metadata": {},
   "source": [
    "# Exercise 2. Data visualization and read the stats comprehension and interpretation questions.\n",
    "\n",
    "- As part of the quizes, two homeworks and the final exam, you will be at times asked to interpret your result based on the understanding of underlying concepts. The questions below can help you practice and get a sense of how well you understand the concepts covered in the class so far. Can you answer these questions confidently?"
   ]
  },
  {
   "cell_type": "markdown",
   "metadata": {},
   "source": [
    "### Question 1. The yearly salaries (in thousands of CHF) of 7000 people are summarized in the following box plot. If the 20th percentile of the salaries is 110,000, how many people earn between 110,000 and 114,000?\n",
    "\n",
    "- a) 2100\n",
    "- b) 700\n",
    "- c) 350\n",
    "- d) 70"
   ]
  },
  {
   "cell_type": "markdown",
   "metadata": {},
   "source": [
    "<img src=\"boxplot.png\" style=\"width: 400px;\" align=\"left\"/>"
   ]
  },
  {
   "cell_type": "markdown",
   "metadata": {},
   "source": [
    "We know that the 20th percentile of the salaries is 110,000. By the definition of box plots, we know that the left edge of the box represents the 1st quartile (25%) and it seems to be at 114,000.\n",
    "This mean that about 5% (25%-20%) of the 7000 people earn between 110,000 and 114,000.\n",
    "\n",
    "This gives us that the right answer is c."
   ]
  },
  {
   "cell_type": "code",
   "execution_count": 39,
   "metadata": {},
   "outputs": [
    {
     "name": "stdout",
     "output_type": "stream",
     "text": [
      "350.0\n"
     ]
    }
   ],
   "source": [
    "print(5/100 * 7000)"
   ]
  },
  {
   "cell_type": "markdown",
   "metadata": {},
   "source": [
    "### Question 2. What visualizations are suitable for getting insights about the distribution of a single continuous variable?\n",
    "\n",
    "- a) Barplot and histogram\n",
    "- b) Boxplot and histogram\n",
    "- c) Scatterplot and boxplot\n",
    "- d) Barplot, boxplot, and histogram"
   ]
  },
  {
   "cell_type": "markdown",
   "metadata": {},
   "source": [
    "The right answer is b as:\n",
    "Histogram:\n",
    "Displays the frequency of data points within different bins.\n",
    "Helps in visualizing the shape of the distribution (e.g., normal, skewed, etc.), spread, and presence of outliers.\n",
    "Boxplot:\n",
    "Summarizes the distribution through its five-number summary: minimum, 25th percentile (Q1), median, 75th percentile (Q3), and maximum.\n",
    "Highlights outliers, spread, and skewness of the data."
   ]
  },
  {
   "cell_type": "markdown",
   "metadata": {},
   "source": [
    "### Question 3. In a new groundbreaking study, 28 out of 100 patients reported improvements after taking a new medicine. It is known that, when given a placebo, 20% of the patients report feeling better. What is the p-value assuming the null hypothesis that the probability of successful treatment in this groundbreaking study is the same as the probability of reporting feeling better under placebo, according to a one-sided binomial test? Hint: you may use the statsmodels.stats.proportion.binom_test function.\n",
    "\n",
    "- a) 0.00034\n",
    "- b) 0.0034\n",
    "- c) 0.034\n",
    "- d) 0.34"
   ]
  },
  {
   "cell_type": "markdown",
   "metadata": {},
   "source": [
    "- Number of successes (patients reporting improvement) = 28\n",
    "- Total number of trials (patients in the study) = 100\n",
    "- Null hypothesis (probability of success) = 20% (the same as the placebo rate)\n",
    "We are asked to perform a one-sided test.\n",
    "The null hypothesis states that the success rate under the new medicine is no better than under the placebo (20%)."
   ]
  },
  {
   "cell_type": "code",
   "execution_count": 40,
   "metadata": {},
   "outputs": [
    {
     "name": "stdout",
     "output_type": "stream",
     "text": [
      "0.03415162963907485\n"
     ]
    }
   ],
   "source": [
    "from statsmodels.stats.proportion import binom_test\n",
    "\n",
    "# Observed number of successes\n",
    "successes = 28\n",
    "# Total number of patients\n",
    "n = 100\n",
    "# Null hypothesis probability of success (placebo rate)\n",
    "p_null = 0.20\n",
    "\n",
    "# Perform one-sided binomial test\n",
    "p_value = binom_test(successes, n, p_null, alternative='larger')\n",
    "print(p_value)\n"
   ]
  },
  {
   "cell_type": "markdown",
   "metadata": {},
   "source": [
    "The right answee as we can see is c\n",
    "\n",
    "What does this mean?\n",
    "This means that we are going to reject the null hypothesis, because the p-values is less than 0.05.\n",
    "Rejecting the null hypothesis leads us to conclusion that the success rate under the new medicine is better than under the placebo."
   ]
  },
  {
   "cell_type": "markdown",
   "metadata": {},
   "source": [
    "### Question 4. The 95% confidence interval of the average height of 1000 people using bootstrap resampling with 10000 bootstrap samples is calculated by:\n",
    "\n",
    "- a) Sampling 1000 height values with replacement and computing the mean. This is repeated 10000 times to create a sorted list of the 10000 means. The CI is defined by the 500th and the 9500th value in sorted order.\n",
    "- b) Sampling 10000 height values without replacement and computing the mean. This is repeated 1000 times to create a sorted list of the 1000 means. The CI is defined by the 25th and the 975th value in sorted order.\n",
    "- c) Sampling 1000 height values with replacement and computing the mean. This is repeated 10000 times to create a sorted list of the 10000 means. The CI is defined by the 250th and the 9750th value in sorted order.\n",
    "- d) Sampling 1000 height values without replacement and computing the mean. This is repeated 10000 times to create a sorted list of the 10000 means. The CI is defined by the 500th and the 9500th value in sorted order.\n",
    "\n",
    "### Implement your bootstrapping function that you will use in the rest of the course. It should take an array and the number of iterations as inputs, and output 95% confidence intervals of the mean."
   ]
  },
  {
   "cell_type": "markdown",
   "metadata": {},
   "source": [
    "The right answer is c\n",
    "\n",
    "Why Option c?\n",
    "- Sampling with replacement is crucial because bootstrap resampling involves drawing random samples with replacement from the original dataset.\n",
    "- The 10000 iterations correspond to the number of bootstrap resamples.\n",
    "- The 95% CI is determined by the 2.5th percentile and 97.5th percentile, which corresponds to the 250th and 9750th values in a sorted list of 10000 resampled means.\n"
   ]
  },
  {
   "cell_type": "code",
   "execution_count": 41,
   "metadata": {},
   "outputs": [
    {
     "name": "stdout",
     "output_type": "stream",
     "text": [
      "95% Confidence Interval: [169.53, 170.77]\n"
     ]
    }
   ],
   "source": [
    "import numpy as np\n",
    "\n",
    "def bootstrap_ci(data, iterations=10000, ci=95):\n",
    "    \"\"\"\n",
    "    Perform bootstrap resampling to compute the confidence interval of the mean.\n",
    "    \n",
    "    Parameters:\n",
    "    data (array): Array of observed data points.\n",
    "    iterations (int): Number of bootstrap samples (default is 10000).\n",
    "    ci (float): Confidence level (default is 95%).\n",
    "    \n",
    "    Returns:\n",
    "    tuple: Lower and upper bounds of the confidence interval.\n",
    "    \"\"\"\n",
    "    # Array to store the means of each bootstrap sample\n",
    "    bootstrap_means = []\n",
    "    \n",
    "    # Bootstrap resampling\n",
    "    for _ in range(iterations):\n",
    "        # Sample 'data' with replacement\n",
    "        sample = np.random.choice(data, size=len(data), replace=True)\n",
    "        # Compute and store the mean of this bootstrap sample\n",
    "        bootstrap_means.append(np.mean(sample))\n",
    "    \n",
    "    # Sort the bootstrap means\n",
    "    sorted_means = np.sort(bootstrap_means)\n",
    "    \n",
    "    # Calculate the percentiles for the desired CI\n",
    "    lower_percentile = (100 - ci) / 2\n",
    "    upper_percentile = 100 - lower_percentile\n",
    "    \n",
    "    # Find the lower and upper bounds of the CI\n",
    "    lower_bound = np.percentile(sorted_means, lower_percentile)\n",
    "    upper_bound = np.percentile(sorted_means, upper_percentile)\n",
    "    \n",
    "    return lower_bound, upper_bound\n",
    "\n",
    "# Example usage with hypothetical height data\n",
    "data = np.random.normal(loc=170, scale=10, size=1000)  # Simulated height data (mean=170cm, std=10cm)\n",
    "ci_lower, ci_upper = bootstrap_ci(data)\n",
    "print(f\"95% Confidence Interval: [{ci_lower:.2f}, {ci_upper:.2f}]\")\n"
   ]
  },
  {
   "cell_type": "markdown",
   "metadata": {},
   "source": [
    "### Question 5. A study conducted at EPFL revealed a negative Spearman’s correlation between GPA and entry-level job salary. Which of the following statements is true?\n",
    "\n",
    "- a) There could be a positive Spearman’s correlation between GPA and entry-level job salary in every single department of EPFL.\n",
    "- b) Spearman correlation between GPA and entry-level job salary in every single department has to be positive.\n",
    "- c) Across all levels, as opposed to entry-level only, higher GPA scores are associated with higher job salaries.\n",
    "- d) We can infer that finishing EPFL with a higher GPA causes you to have a lower entry-level job salary."
   ]
  },
  {
   "cell_type": "markdown",
   "metadata": {},
   "source": [
    "Ask TAs"
   ]
  },
  {
   "cell_type": "markdown",
   "metadata": {},
   "source": [
    "### Question 6. The average number of requests per page during a day on a large website is 200, while the median is 15. \n",
    "\n",
    "- a) You can assume that the distribution is heavy-tailed.\n",
    "- b) You are dealing with a left-skewed distribution.\n",
    "- c) Half of the pages get more than 200 requests.\n",
    "- d) None of the above."
   ]
  },
  {
   "cell_type": "markdown",
   "metadata": {},
   "source": [
    "Why (a) You can assume that the distribution is heavy-tailed is correct:\n",
    "- A heavy-tailed distribution has a few extremely large values (outliers) that significantly increase the mean, while most of the data points are concentrated around lower values (hence the low median).\n",
    "- In this case, the fact that the mean is much higher than the median suggests that some pages get an extremely high number of requests, pulling the mean up. This is typical of a heavy-tailed or right-skewed distribution, where a small number of pages receive a very large number of requests, but the majority of pages receive far fewer."
   ]
  }
 ],
 "metadata": {
  "kernelspec": {
   "display_name": "ada",
   "language": "python",
   "name": "python3"
  },
  "language_info": {
   "codemirror_mode": {
    "name": "ipython",
    "version": 3
   },
   "file_extension": ".py",
   "mimetype": "text/x-python",
   "name": "python",
   "nbconvert_exporter": "python",
   "pygments_lexer": "ipython3",
   "version": "3.11.9"
  },
  "varInspector": {
   "cols": {
    "lenName": 16,
    "lenType": 16,
    "lenVar": 40
   },
   "kernels_config": {
    "python": {
     "delete_cmd_postfix": "",
     "delete_cmd_prefix": "del ",
     "library": "var_list.py",
     "varRefreshCmd": "print(var_dic_list())"
    },
    "r": {
     "delete_cmd_postfix": ") ",
     "delete_cmd_prefix": "rm(",
     "library": "var_list.r",
     "varRefreshCmd": "cat(var_dic_list()) "
    }
   },
   "types_to_exclude": [
    "module",
    "function",
    "builtin_function_or_method",
    "instance",
    "_Feature"
   ],
   "window_display": false
  }
 },
 "nbformat": 4,
 "nbformat_minor": 4
}
